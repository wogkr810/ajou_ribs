{
  "nbformat": 4,
  "nbformat_minor": 0,
  "metadata": {
    "colab": {
      "name": "문헌조사 및 논문정리",
      "provenance": [],
      "collapsed_sections": []
    },
    "kernelspec": {
      "name": "python3",
      "display_name": "Python 3"
    },
    "language_info": {
      "name": "python"
    }
  },
  "cells": [
    {
      "cell_type": "markdown",
      "metadata": {
        "id": "uTClbXXI28wn"
      },
      "source": [
        "# Contents\n",
        "\n",
        "- Keywords\n",
        "  - Frechet Distance\n",
        "  - Interpoint Distance\n",
        "- 이산 프레셔 정의\n",
        "- 적용\n",
        "  - 현실적인 논문\n",
        "- FID\n",
        "  -인셉션 모델이란?\n",
        "  - FID 파이썬코드\n",
        "\n",
        "-TODO \n",
        " -프레셔VS INTERPOINT\n",
        "\n",
        "---\n",
        "\n",
        " # 참고\n",
        " [유튜브](https://www.youtube.com/watch?v=19An2T4utEM)\n",
        " [유튜브-정의](https://www.youtube.com/watch?v=12vrDDBnEFg)\n",
        "---\n",
        "\n",
        " # 논문\n",
        " -대립생성망의 성능 비교에 관한 연구"
      ]
    },
    {
      "cell_type": "code",
      "metadata": {
        "id": "u5Tj1ccz3xk3"
      },
      "source": [
        ""
      ],
      "execution_count": null,
      "outputs": []
    },
    {
      "cell_type": "markdown",
      "metadata": {
        "id": "SHpG9nzP3yPX"
      },
      "source": [
        "# 1.Frechet Distance  \n",
        "\n",
        "- 유래: 수학에서 곡선을 따라 점의 위치와 순서를 고려한 곡선 간의 유사도를 측정 한 것. '모리스 르네 프레셰'의 이름을 따서 명명됨  \n",
        "- 정의:@@@이미지넣기@@@\n",
        "\n",
        "# 2.Interpoint Distance\n",
        "\n",
        "---\n",
        "# 참고\n",
        "[위키피디아](https://en.wikipedia.org/wiki/Fr%C3%A9chet_distance)"
      ]
    },
    {
      "cell_type": "markdown",
      "metadata": {
        "id": "qME-u7wf9BA2"
      },
      "source": [
        "Interpoint distances: Applications, properties, and visualization"
      ]
    }
  ]
}