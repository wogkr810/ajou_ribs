{
  "nbformat": 4,
  "nbformat_minor": 0,
  "metadata": {
    "colab": {
      "name": "문헌조사 및 논문정리",
      "provenance": [],
      "collapsed_sections": []
    },
    "kernelspec": {
      "name": "python3",
      "display_name": "Python 3"
    },
    "language_info": {
      "name": "python"
    }
  },
  "cells": [
    {
      "cell_type": "code",
      "metadata": {
        "colab": {
          "base_uri": "https://localhost:8080/"
        },
        "id": "idLHd9B_ergS",
        "outputId": "5110f846-caa0-4344-f938-f4a23f3215bb"
      },
      "source": [
        "from google.colab import drive\n",
        "drive.mount('/content/gdrive')\n",
        "\n",
        "import sys\n",
        "sys.path.append('/content/gdrive/MyDrive/ajou_ribs/img')"
      ],
      "execution_count": 2,
      "outputs": [
        {
          "output_type": "stream",
          "name": "stdout",
          "text": [
            "Drive already mounted at /content/gdrive; to attempt to forcibly remount, call drive.mount(\"/content/gdrive\", force_remount=True).\n"
          ]
        }
      ]
    },
    {
      "cell_type": "markdown",
      "metadata": {
        "id": "xQaurpGkTjeL"
      },
      "source": [
        "---\n",
        "# 수학과 201521139 이재학\n",
        "### Keywords : Frechet distance, interpoint distance\n",
        "---"
      ]
    },
    {
      "cell_type": "markdown",
      "metadata": {
        "id": "EBqB22p2Ue7U"
      },
      "source": [
        "# Contents\n",
        "- 논문소개   \n",
        "- 배경지식\n",
        "  - frechet distance\n",
        "  - discrete frechet distance\n",
        "- 활용\n",
        "  - 다차원프레셰 거리 기반 종단자료 군집분석(MFKmL)\n",
        "  - 대립생성망의 성능 비교에 대한 연구 (FID)\n",
        "  - 이산 프레셰 거리 척도를 이용한 궤적 유사도 고속계산 휴리스틱\n",
        "- 논문분석\n",
        "- 참고"
      ]
    },
    {
      "cell_type": "markdown",
      "metadata": {
        "id": "btqEXXO2VC1_"
      },
      "source": [
        "---\n",
        "# 논문소개\n",
        "[computing the frechet distance between polygonal curves](https://www.worldscientific.com/doi/abs/10.1142/S0218195995000064)  \n",
        "- 초록\n",
        "  - 임의의 차원에서 곡선의 유사성에 대한 측정을 하기 위해, 곡선의 매개변수화가 가능한 프레셰 거리를 고려한다.\n",
        "  - 간선이 각 p,q개인 다각형 P,Q의 프레셰 거리는 O(pqlog(pq))의 runtime으로 구할 수 있다.\n",
        "  - 더 나아가, 닫힌 곡선에 대한 프레셰 거리, 비단조 프레셰거리 그리고 기준이 되는 곡선 P가 다른 곡선 Q의 '일부'와의 유사성을 측정하는 프레셰 거리에 대한 변화를 고려해보려한다.\n",
        "- 서론\n",
        "  - 실생활에서, 주어진 두 곡선의 거리는 '직관적으로' 두 곡선이 얼마나 '유사한지'로 표현된다.\n",
        "  - 측정하는 거리로 '하우스 도르프 거리'가 제안된다.<br/>  <center> ![hs](https://wikimedia.org/api/rest_v1/media/math/render/svg/aca3f8102f43ec3f914d0ebe4837c0d7532782df) </center><br/>로 정의되며,"
      ]
    },
    {
      "cell_type": "markdown",
      "metadata": {
        "id": "SHpG9nzP3yPX"
      },
      "source": [
        "---\n",
        "# 배경지식\n",
        "- Frechet Distance\n",
        "  - 유래: 수학에서 곡선을 따라 점의 위치와 순서를 고려한 곡선 간의 유사도를 측정 한 것. '모리스 르네 프레셰'의 이름을 따서 명명됨  \n",
        "  - 정의:@@@이미지넣기@@@\n",
        "- Discrete Frechet Distance\n"
      ]
    },
    {
      "cell_type": "markdown",
      "metadata": {
        "id": "cKFOf8qpZgyu"
      },
      "source": [
        "# TODO\n",
        "-하우스도르프: 두 궤적의 진행 방향이나 모양을 고려하지 않기 때문에 실제 두 궤적의 유사성을 판단하기엔 부적합하다.\n",
        "@@@@@하우스 도르프 거리 설명 +단점  +이미지첨부하는거?@@@\n",
        "-multinomial 논문 +유튜브참고(시간복잡도)  \n",
        "-프레셔 vs interpoint  \n",
        "-FID -> 인셉션 모델이란? / FID 파이썬코드\n",
        "-R이나 파이썬으로 구현?\n",
        "\n",
        "## 교수님 말씀\n",
        "-하려고하는배경(목적)/해결하기위한 방법론(장단점극복) / 새로운방법제안  \n",
        "-ppt 로준비 (마크다운가능?)  \n",
        "-논문 발표양식?  \n",
        "-발표 10분 / 드랍박스에 선태한 논문 표시하기  \n",
        "-시험기간이어도 그냥 20일 F교시에 할 듯"
      ]
    },
    {
      "cell_type": "markdown",
      "metadata": {
        "id": "NJqHLHVeSFfE"
      },
      "source": [
        "---\n",
        "#<참고>\n",
        "\n",
        "[위키피디아](https://en.wikipedia.org/wiki/Fr%C3%A9chet_distance)  \n",
        "[유튜브 : Frechet Distance Between Two Point Sets](https://www.youtube.com/watch?v=12vrDDBnEFg)  \n",
        "[유튜브 : GAN 성능의 정량적 평가 방법 - Python, Deep Learning](https://www.youtube.com/watch?v=19An2T4utEM)\n",
        "\n",
        "\n",
        "#<논문>\n",
        "---\n",
        "### 메인\n",
        "[computing the frechet distance between polygonal curves](https://www.worldscientific.com/doi/abs/10.1142/S0218195995000064)\n",
        "\n",
        "---\n",
        "### 참고\n",
        "[이산 프레셰 거리 척도를 이용한 궤적 유사도 고속계산 휴리스틱](http://www.dbpia.co.kr.ssl.openlink.ajou.ac.kr/search/topSearch?startCount=0&collection=ALL&range=A&searchField=ALL&sort=RANK&query=%EC%9D%B4%EC%82%B0+%ED%94%84%EB%A0%88%EC%85%B0&srchOption=*&includeAr=false)  \n",
        "[다차원 프레셰 거리 기반 종단자료 군집분석](https://dcoll.ajou.ac.kr/dcollection/srch/srchDetail/000000030579)  \n",
        "[대립생성망의 성능 비교에 대한 연구](https://www.dbpia.co.kr/Journal/articleDetail?nodeId=NODE07540262)  \n",
        "[The Frechet Distance between Multivariate Normal Distributions](https://www.sciencedirect.com/science/article/pii/0047259X8290077X)  \n",
        "[Interpoint distances: Applications, properties, and visualization](https://onlinelibrary.wiley.com/doi/abs/10.1002/asmb.2508)"
      ]
    }
  ]
}